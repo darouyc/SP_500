{
 "cells": [
  {
   "cell_type": "code",
   "execution_count": 2,
   "id": "ac429e11",
   "metadata": {},
   "outputs": [
    {
     "name": "stdout",
     "output_type": "stream",
     "text": [
      "Collecting pandas_datareader\n",
      "  Downloading pandas_datareader-0.9.0-py3-none-any.whl (107 kB)\n",
      "Requirement already satisfied: lxml in c:\\users\\hajar\\anaconda3\\lib\\site-packages (from pandas_datareader) (4.6.3)\n",
      "Requirement already satisfied: requests>=2.19.0 in c:\\users\\hajar\\anaconda3\\lib\\site-packages (from pandas_datareader) (2.25.1)\n",
      "Requirement already satisfied: pandas>=0.23 in c:\\users\\hajar\\anaconda3\\lib\\site-packages (from pandas_datareader) (1.2.4)\n",
      "Requirement already satisfied: python-dateutil>=2.7.3 in c:\\users\\hajar\\anaconda3\\lib\\site-packages (from pandas>=0.23->pandas_datareader) (2.8.1)\n",
      "Requirement already satisfied: pytz>=2017.3 in c:\\users\\hajar\\anaconda3\\lib\\site-packages (from pandas>=0.23->pandas_datareader) (2021.1)\n",
      "Requirement already satisfied: numpy>=1.16.5 in c:\\users\\hajar\\anaconda3\\lib\\site-packages (from pandas>=0.23->pandas_datareader) (1.20.1)\n",
      "Requirement already satisfied: six>=1.5 in c:\\users\\hajar\\anaconda3\\lib\\site-packages (from python-dateutil>=2.7.3->pandas>=0.23->pandas_datareader) (1.15.0)\n",
      "Requirement already satisfied: chardet<5,>=3.0.2 in c:\\users\\hajar\\anaconda3\\lib\\site-packages (from requests>=2.19.0->pandas_datareader) (4.0.0)\n",
      "Requirement already satisfied: urllib3<1.27,>=1.21.1 in c:\\users\\hajar\\anaconda3\\lib\\site-packages (from requests>=2.19.0->pandas_datareader) (1.26.4)\n",
      "Requirement already satisfied: idna<3,>=2.5 in c:\\users\\hajar\\anaconda3\\lib\\site-packages (from requests>=2.19.0->pandas_datareader) (2.10)\n",
      "Requirement already satisfied: certifi>=2017.4.17 in c:\\users\\hajar\\anaconda3\\lib\\site-packages (from requests>=2.19.0->pandas_datareader) (2020.12.5)\n",
      "Installing collected packages: pandas-datareader\n",
      "Successfully installed pandas-datareader-0.9.0\n"
     ]
    }
   ],
   "source": [
    "!python -m pip install pandas_datareader"
   ]
  },
  {
   "cell_type": "code",
   "execution_count": 76,
   "id": "94bec91f",
   "metadata": {},
   "outputs": [
    {
     "name": "stdout",
     "output_type": "stream",
     "text": [
      "Collecting TensorFlow\n",
      "  Using cached tensorflow-2.5.0-cp38-cp38-win_amd64.whl (422.6 MB)\n",
      "Requirement already satisfied: wheel~=0.35 in c:\\users\\hajar\\anaconda3\\lib\\site-packages (from TensorFlow) (0.36.2)\n",
      "Collecting grpcio~=1.34.0\n",
      "  Using cached grpcio-1.34.1-cp38-cp38-win_amd64.whl (2.9 MB)\n",
      "Collecting gast==0.4.0\n",
      "  Using cached gast-0.4.0-py3-none-any.whl (9.8 kB)\n",
      "Collecting keras-nightly~=2.5.0.dev\n",
      "  Using cached keras_nightly-2.5.0.dev2021032900-py2.py3-none-any.whl (1.2 MB)\n",
      "Collecting tensorboard~=2.5\n",
      "  Using cached tensorboard-2.5.0-py3-none-any.whl (6.0 MB)\n",
      "Requirement already satisfied: numpy~=1.19.2 in c:\\users\\hajar\\anaconda3\\lib\\site-packages (from TensorFlow) (1.19.5)\n",
      "Collecting keras-preprocessing~=1.1.2\n",
      "  Using cached Keras_Preprocessing-1.1.2-py2.py3-none-any.whl (42 kB)\n",
      "Collecting termcolor~=1.1.0\n",
      "  Using cached termcolor-1.1.0-py3-none-any.whl\n",
      "Collecting tensorflow-estimator<2.6.0,>=2.5.0rc0\n",
      "  Using cached tensorflow_estimator-2.5.0-py2.py3-none-any.whl (462 kB)\n",
      "Collecting opt-einsum~=3.3.0\n",
      "  Using cached opt_einsum-3.3.0-py3-none-any.whl (65 kB)\n",
      "Requirement already satisfied: protobuf>=3.9.2 in c:\\users\\hajar\\anaconda3\\lib\\site-packages (from TensorFlow) (3.17.3)\n",
      "Requirement already satisfied: wrapt~=1.12.1 in c:\\users\\hajar\\anaconda3\\lib\\site-packages (from TensorFlow) (1.12.1)\n",
      "Collecting flatbuffers~=1.12.0\n",
      "  Using cached flatbuffers-1.12-py2.py3-none-any.whl (15 kB)\n",
      "Requirement already satisfied: six~=1.15.0 in c:\\users\\hajar\\anaconda3\\lib\\site-packages (from TensorFlow) (1.15.0)\n",
      "Collecting h5py~=3.1.0\n",
      "  Using cached h5py-3.1.0-cp38-cp38-win_amd64.whl (2.7 MB)\n",
      "Requirement already satisfied: typing-extensions~=3.7.4 in c:\\users\\hajar\\anaconda3\\lib\\site-packages (from TensorFlow) (3.7.4.3)\n",
      "Collecting astunparse~=1.6.3\n",
      "  Using cached astunparse-1.6.3-py2.py3-none-any.whl (12 kB)\n",
      "Collecting absl-py~=0.10\n",
      "  Using cached absl_py-0.12.0-py3-none-any.whl (129 kB)\n",
      "Collecting google-pasta~=0.2\n",
      "  Using cached google_pasta-0.2.0-py3-none-any.whl (57 kB)\n",
      "Requirement already satisfied: tensorboard-plugin-wit>=1.6.0 in c:\\users\\hajar\\anaconda3\\lib\\site-packages (from tensorboard~=2.5->TensorFlow) (1.8.0)\n",
      "Requirement already satisfied: tensorboard-data-server<0.7.0,>=0.6.0 in c:\\users\\hajar\\anaconda3\\lib\\site-packages (from tensorboard~=2.5->TensorFlow) (0.6.1)\n",
      "Collecting markdown>=2.6.8\n",
      "  Using cached Markdown-3.3.4-py3-none-any.whl (97 kB)\n",
      "Collecting google-auth-oauthlib<0.5,>=0.4.1\n",
      "  Using cached google_auth_oauthlib-0.4.4-py2.py3-none-any.whl (18 kB)\n",
      "Requirement already satisfied: requests<3,>=2.21.0 in c:\\users\\hajar\\anaconda3\\lib\\site-packages (from tensorboard~=2.5->TensorFlow) (2.25.1)\n",
      "Requirement already satisfied: setuptools>=41.0.0 in c:\\users\\hajar\\anaconda3\\lib\\site-packages (from tensorboard~=2.5->TensorFlow) (52.0.0.post20210125)\n",
      "Requirement already satisfied: werkzeug>=0.11.15 in c:\\users\\hajar\\anaconda3\\lib\\site-packages (from tensorboard~=2.5->TensorFlow) (1.0.1)\n",
      "Requirement already satisfied: google-auth<2,>=1.6.3 in c:\\users\\hajar\\anaconda3\\lib\\site-packages (from tensorboard~=2.5->TensorFlow) (1.31.0)\n",
      "Requirement already satisfied: rsa<5,>=3.1.4 in c:\\users\\hajar\\anaconda3\\lib\\site-packages (from google-auth<2,>=1.6.3->tensorboard~=2.5->TensorFlow) (4.7.2)\n",
      "Requirement already satisfied: cachetools<5.0,>=2.0.0 in c:\\users\\hajar\\anaconda3\\lib\\site-packages (from google-auth<2,>=1.6.3->tensorboard~=2.5->TensorFlow) (4.2.2)\n",
      "Requirement already satisfied: pyasn1-modules>=0.2.1 in c:\\users\\hajar\\anaconda3\\lib\\site-packages (from google-auth<2,>=1.6.3->tensorboard~=2.5->TensorFlow) (0.2.8)\n",
      "Requirement already satisfied: requests-oauthlib>=0.7.0 in c:\\users\\hajar\\anaconda3\\lib\\site-packages (from google-auth-oauthlib<0.5,>=0.4.1->tensorboard~=2.5->TensorFlow) (1.3.0)\n",
      "Requirement already satisfied: pyasn1<0.5.0,>=0.4.6 in c:\\users\\hajar\\anaconda3\\lib\\site-packages (from pyasn1-modules>=0.2.1->google-auth<2,>=1.6.3->tensorboard~=2.5->TensorFlow) (0.4.8)\n",
      "Requirement already satisfied: certifi>=2017.4.17 in c:\\users\\hajar\\anaconda3\\lib\\site-packages (from requests<3,>=2.21.0->tensorboard~=2.5->TensorFlow) (2020.12.5)\n",
      "Requirement already satisfied: urllib3<1.27,>=1.21.1 in c:\\users\\hajar\\anaconda3\\lib\\site-packages (from requests<3,>=2.21.0->tensorboard~=2.5->TensorFlow) (1.26.4)\n",
      "Requirement already satisfied: idna<3,>=2.5 in c:\\users\\hajar\\anaconda3\\lib\\site-packages (from requests<3,>=2.21.0->tensorboard~=2.5->TensorFlow) (2.10)\n",
      "Requirement already satisfied: chardet<5,>=3.0.2 in c:\\users\\hajar\\anaconda3\\lib\\site-packages (from requests<3,>=2.21.0->tensorboard~=2.5->TensorFlow) (4.0.0)\n",
      "Requirement already satisfied: oauthlib>=3.0.0 in c:\\users\\hajar\\anaconda3\\lib\\site-packages (from requests-oauthlib>=0.7.0->google-auth-oauthlib<0.5,>=0.4.1->tensorboard~=2.5->TensorFlow) (3.1.1)\n",
      "Installing collected packages: markdown, grpcio, google-auth-oauthlib, absl-py, termcolor, tensorflow-estimator, tensorboard, opt-einsum, keras-preprocessing, keras-nightly, h5py, google-pasta, gast, flatbuffers, astunparse, TensorFlow\n",
      "  Attempting uninstall: h5py\n",
      "    Found existing installation: h5py 2.10.0\n",
      "    Uninstalling h5py-2.10.0:\n",
      "      Successfully uninstalled h5py-2.10.0\n",
      "Successfully installed TensorFlow-2.5.0 absl-py-0.12.0 astunparse-1.6.3 flatbuffers-1.12 gast-0.4.0 google-auth-oauthlib-0.4.4 google-pasta-0.2.0 grpcio-1.34.1 h5py-3.1.0 keras-nightly-2.5.0.dev2021032900 keras-preprocessing-1.1.2 markdown-3.3.4 opt-einsum-3.3.0 tensorboard-2.5.0 tensorflow-estimator-2.5.0 termcolor-1.1.0\n"
     ]
    }
   ],
   "source": [
    "!python -m pip install TensorFlow"
   ]
  },
  {
   "cell_type": "code",
   "execution_count": 15,
   "id": "6f3c1564",
   "metadata": {},
   "outputs": [],
   "source": [
    "import pandas_datareader as pdr\n",
    "import matplotlib.pyplot as plt\n",
    "from datetime import datetime\n",
    "import pandas as pd \n",
    "import numpy as np \n",
    "import random\n",
    "from sklearn.preprocessing import MinMaxScaler\n",
    "from sklearn.preprocessing import LabelBinarizer\n",
    "from sklearn.model_selection import train_test_split\n",
    "from sklearn.metrics import classification_report\n",
    "from sklearn.preprocessing import scale\n",
    "from sklearn import datasets\n",
    "import seaborn as sns  # Bibliothèque pour la visualisation des données\n",
    "import tensorflow.compat.v1 as tf\n",
    "from keras.models import Sequential, load_model\n",
    "from keras.layers import LSTM, Dense, Dropout"
   ]
  },
  {
   "cell_type": "code",
   "execution_count": 3,
   "id": "830c90ad",
   "metadata": {},
   "outputs": [
    {
     "data": {
      "text/html": [
       "<div>\n",
       "<style scoped>\n",
       "    .dataframe tbody tr th:only-of-type {\n",
       "        vertical-align: middle;\n",
       "    }\n",
       "\n",
       "    .dataframe tbody tr th {\n",
       "        vertical-align: top;\n",
       "    }\n",
       "\n",
       "    .dataframe thead th {\n",
       "        text-align: right;\n",
       "    }\n",
       "</style>\n",
       "<table border=\"1\" class=\"dataframe\">\n",
       "  <thead>\n",
       "    <tr style=\"text-align: right;\">\n",
       "      <th></th>\n",
       "      <th>High</th>\n",
       "      <th>Low</th>\n",
       "      <th>Open</th>\n",
       "      <th>Close</th>\n",
       "      <th>Volume</th>\n",
       "      <th>Adj Close</th>\n",
       "    </tr>\n",
       "    <tr>\n",
       "      <th>Date</th>\n",
       "      <th></th>\n",
       "      <th></th>\n",
       "      <th></th>\n",
       "      <th></th>\n",
       "      <th></th>\n",
       "      <th></th>\n",
       "    </tr>\n",
       "  </thead>\n",
       "  <tbody>\n",
       "    <tr>\n",
       "      <th>2000-01-03</th>\n",
       "      <td>1478.000000</td>\n",
       "      <td>1438.359985</td>\n",
       "      <td>1469.250000</td>\n",
       "      <td>1455.219971</td>\n",
       "      <td>931800000</td>\n",
       "      <td>1455.219971</td>\n",
       "    </tr>\n",
       "    <tr>\n",
       "      <th>2000-01-04</th>\n",
       "      <td>1455.219971</td>\n",
       "      <td>1397.430054</td>\n",
       "      <td>1455.219971</td>\n",
       "      <td>1399.420044</td>\n",
       "      <td>1009000000</td>\n",
       "      <td>1399.420044</td>\n",
       "    </tr>\n",
       "    <tr>\n",
       "      <th>2000-01-05</th>\n",
       "      <td>1413.270020</td>\n",
       "      <td>1377.680054</td>\n",
       "      <td>1399.420044</td>\n",
       "      <td>1402.109985</td>\n",
       "      <td>1085500000</td>\n",
       "      <td>1402.109985</td>\n",
       "    </tr>\n",
       "    <tr>\n",
       "      <th>2000-01-06</th>\n",
       "      <td>1411.900024</td>\n",
       "      <td>1392.099976</td>\n",
       "      <td>1402.109985</td>\n",
       "      <td>1403.449951</td>\n",
       "      <td>1092300000</td>\n",
       "      <td>1403.449951</td>\n",
       "    </tr>\n",
       "    <tr>\n",
       "      <th>2000-01-07</th>\n",
       "      <td>1441.469971</td>\n",
       "      <td>1400.729980</td>\n",
       "      <td>1403.449951</td>\n",
       "      <td>1441.469971</td>\n",
       "      <td>1225200000</td>\n",
       "      <td>1441.469971</td>\n",
       "    </tr>\n",
       "  </tbody>\n",
       "</table>\n",
       "</div>"
      ],
      "text/plain": [
       "                   High          Low         Open        Close      Volume  \\\n",
       "Date                                                                         \n",
       "2000-01-03  1478.000000  1438.359985  1469.250000  1455.219971   931800000   \n",
       "2000-01-04  1455.219971  1397.430054  1455.219971  1399.420044  1009000000   \n",
       "2000-01-05  1413.270020  1377.680054  1399.420044  1402.109985  1085500000   \n",
       "2000-01-06  1411.900024  1392.099976  1402.109985  1403.449951  1092300000   \n",
       "2000-01-07  1441.469971  1400.729980  1403.449951  1441.469971  1225200000   \n",
       "\n",
       "              Adj Close  \n",
       "Date                     \n",
       "2000-01-03  1455.219971  \n",
       "2000-01-04  1399.420044  \n",
       "2000-01-05  1402.109985  \n",
       "2000-01-06  1403.449951  \n",
       "2000-01-07  1441.469971  "
      ]
     },
     "execution_count": 3,
     "metadata": {},
     "output_type": "execute_result"
    }
   ],
   "source": [
    "start = datetime(2000, 1, 1)\n",
    "end = datetime(2005, 1, 1)\n",
    "sp_data = pdr.DataReader('^GSPC', 'yahoo', start, end)\n",
    "sp_data.head()"
   ]
  },
  {
   "cell_type": "code",
   "execution_count": 5,
   "id": "906a09d5",
   "metadata": {
    "scrolled": false
   },
   "outputs": [],
   "source": [
    "#sp_data.to_csv(r'C:\\Users\\Hajar\\Desktop\\S4\\ML\\Projet\\sp_data.csv', index = True)\n",
    "sp_data= pd.read_csv(r'C:\\Users\\Hajar\\Desktop\\S4\\ML\\Projet\\RNA_S&P500\\sp_data.csv', index_col='Date', parse_dates=True)\n",
    "# Change to datetime datatype.\n",
    "#sp_data.loc[:, 'Date'] = pd.to_datetime(sp_data.loc[:,'Date'], format=\"%Y/%m/%d\")"
   ]
  },
  {
   "cell_type": "code",
   "execution_count": 6,
   "id": "f8e805e6",
   "metadata": {
    "scrolled": true
   },
   "outputs": [
    {
     "data": {
      "text/plain": [
       "DatetimeIndex(['2000-01-03', '2000-01-04', '2000-01-05', '2000-01-06',\n",
       "               '2000-01-07', '2000-01-10', '2000-01-11', '2000-01-12',\n",
       "               '2000-01-13', '2000-01-14',\n",
       "               ...\n",
       "               '2004-12-17', '2004-12-20', '2004-12-21', '2004-12-22',\n",
       "               '2004-12-23', '2004-12-27', '2004-12-28', '2004-12-29',\n",
       "               '2004-12-30', '2004-12-31'],\n",
       "              dtype='datetime64[ns]', name='Date', length=1256, freq=None)"
      ]
     },
     "execution_count": 6,
     "metadata": {},
     "output_type": "execute_result"
    }
   ],
   "source": [
    "sp_data.head()\n",
    "sp_data.index"
   ]
  },
  {
   "cell_type": "code",
   "execution_count": 7,
   "id": "feea0adf",
   "metadata": {},
   "outputs": [
    {
     "data": {
      "text/plain": [
       "<AxesSubplot:xlabel='Date'>"
      ]
     },
     "execution_count": 7,
     "metadata": {},
     "output_type": "execute_result"
    },
    {
     "data": {
      "image/png": "[encoded data removed]",
      "text/plain": [
       "<Figure size 432x288 with 1 Axes>"
      ]
     },
     "metadata": {
      "needs_background": "light"
     },
     "output_type": "display_data"
    }
   ],
   "source": [
    "# Simple plotting of Amazon Stock Price\n",
    "\n",
    "# f, (ax1, ax2) = plt.subplots(1, 2, figsize=(14,5))\n",
    "\n",
    "# # First Subplot:\"Close Price History\"\n",
    "# ax1.plot(sp_data[\"Date\"], sp_data[\"Close\"], color=\"blue\")\n",
    "# ax1.set_xlabel(\"Date\", fontsize=12)\n",
    "# ax1.set_ylabel(\"Stock Price\")\n",
    "# ax1.set_title(\"Close-High-low Price History\")\n",
    "\n",
    "# # Second Subplot:\"High Price History\"\n",
    "# ax1.plot(sp_data[\"Date\"], sp_data[\"High\"], color=\"green\")\n",
    "# ax1.set_xlabel(\"Date\", fontsize=12)\n",
    "# ax1.set_ylabel(\"Stock Price\")\n",
    "\n",
    "# # Third Subplot:Low Price History\"\n",
    "# ax1.plot(sp_data[\"Date\"], sp_data[\"Low\"], color=\"red\")\n",
    "# ax1.set_xlabel(\"Date\", fontsize=12)\n",
    "# ax1.set_ylabel(\"Stock Price\")\n",
    "\n",
    "# # Fourth Subplot:\"Volume History\"\n",
    "# ax2.plot(sp_data[\"Date\"], sp_data[\"Volume\"], color=\"orange\")\n",
    "# ax2.set_xlabel(\"Date\", fontsize=12)\n",
    "# ax2.set_ylabel(\"Stock Price\")\n",
    "# ax2.set_title(\"Volume History\")\n",
    "# plt.show()\n",
    "sp_data['Close'].plot()"
   ]
  },
  {
   "cell_type": "code",
   "execution_count": 20,
   "id": "10da159d",
   "metadata": {},
   "outputs": [
    {
     "data": {
      "text/html": [
       "<div>\n",
       "<style scoped>\n",
       "    .dataframe tbody tr th:only-of-type {\n",
       "        vertical-align: middle;\n",
       "    }\n",
       "\n",
       "    .dataframe tbody tr th {\n",
       "        vertical-align: top;\n",
       "    }\n",
       "\n",
       "    .dataframe thead th {\n",
       "        text-align: right;\n",
       "    }\n",
       "</style>\n",
       "<table border=\"1\" class=\"dataframe\">\n",
       "  <thead>\n",
       "    <tr style=\"text-align: right;\">\n",
       "      <th></th>\n",
       "      <th>High</th>\n",
       "      <th>Low</th>\n",
       "      <th>Open</th>\n",
       "      <th>Close</th>\n",
       "      <th>Volume</th>\n",
       "      <th>Adj Close</th>\n",
       "    </tr>\n",
       "    <tr>\n",
       "      <th>Date</th>\n",
       "      <th></th>\n",
       "      <th></th>\n",
       "      <th></th>\n",
       "      <th></th>\n",
       "      <th></th>\n",
       "      <th></th>\n",
       "    </tr>\n",
       "  </thead>\n",
       "  <tbody>\n",
       "    <tr>\n",
       "      <th>2000-01-03</th>\n",
       "      <td>0.900745</td>\n",
       "      <td>0.893176</td>\n",
       "      <td>0.922459</td>\n",
       "      <td>0.903770</td>\n",
       "      <td>0.237955</td>\n",
       "      <td>0.903770</td>\n",
       "    </tr>\n",
       "    <tr>\n",
       "      <th>2000-01-04</th>\n",
       "      <td>0.870546</td>\n",
       "      <td>0.838590</td>\n",
       "      <td>0.903770</td>\n",
       "      <td>0.829439</td>\n",
       "      <td>0.269863</td>\n",
       "      <td>0.829439</td>\n",
       "    </tr>\n",
       "    <tr>\n",
       "      <th>2000-01-05</th>\n",
       "      <td>0.814933</td>\n",
       "      <td>0.812251</td>\n",
       "      <td>0.829439</td>\n",
       "      <td>0.833023</td>\n",
       "      <td>0.301481</td>\n",
       "      <td>0.833023</td>\n",
       "    </tr>\n",
       "    <tr>\n",
       "      <th>2000-01-06</th>\n",
       "      <td>0.813116</td>\n",
       "      <td>0.831482</td>\n",
       "      <td>0.833023</td>\n",
       "      <td>0.834807</td>\n",
       "      <td>0.304291</td>\n",
       "      <td>0.834807</td>\n",
       "    </tr>\n",
       "    <tr>\n",
       "      <th>2000-01-07</th>\n",
       "      <td>0.852317</td>\n",
       "      <td>0.842991</td>\n",
       "      <td>0.834807</td>\n",
       "      <td>0.885454</td>\n",
       "      <td>0.359220</td>\n",
       "      <td>0.885454</td>\n",
       "    </tr>\n",
       "  </tbody>\n",
       "</table>\n",
       "</div>"
      ],
      "text/plain": [
       "                High       Low      Open     Close    Volume  Adj Close\n",
       "Date                                                                   \n",
       "2000-01-03  0.900745  0.893176  0.922459  0.903770  0.237955   0.903770\n",
       "2000-01-04  0.870546  0.838590  0.903770  0.829439  0.269863   0.829439\n",
       "2000-01-05  0.814933  0.812251  0.829439  0.833023  0.301481   0.833023\n",
       "2000-01-06  0.813116  0.831482  0.833023  0.834807  0.304291   0.834807\n",
       "2000-01-07  0.852317  0.842991  0.834807  0.885454  0.359220   0.885454"
      ]
     },
     "execution_count": 20,
     "metadata": {},
     "output_type": "execute_result"
    }
   ],
   "source": [
    "\n",
    "scaler = MinMaxScaler(feature_range=(0,1))\n",
    "scaled_array = scaler.fit_transform(sp_data)\n",
    "\n",
    "# df2 = pd.DataFrame(sp_data.index)\n",
    "# df['Close'] = scaled_array.tolist()\n",
    "df = pd.DataFrame(scaled_array, columns=['High', 'Low', 'Open', 'Close', 'Volume', 'Adj Close'])\n",
    "df.index = sp_data.index\n",
    "\n",
    "df.head()\n",
    "# plt.plot(scaled_array)"
   ]
  },
  {
   "cell_type": "code",
   "execution_count": 21,
   "id": "82a3e349",
   "metadata": {},
   "outputs": [
    {
     "data": {
      "text/plain": [
       "array([0.90074505, 0.89317581, 0.92245909, 0.90376982, 0.23795511,\n",
       "       0.90376982])"
      ]
     },
     "execution_count": 21,
     "metadata": {},
     "output_type": "execute_result"
    }
   ],
   "source": [
    "scaled_array[0]"
   ]
  },
  {
   "cell_type": "code",
   "execution_count": 22,
   "id": "ba923a11",
   "metadata": {},
   "outputs": [
    {
     "data": {
      "text/html": [
       "<div>\n",
       "<style scoped>\n",
       "    .dataframe tbody tr th:only-of-type {\n",
       "        vertical-align: middle;\n",
       "    }\n",
       "\n",
       "    .dataframe tbody tr th {\n",
       "        vertical-align: top;\n",
       "    }\n",
       "\n",
       "    .dataframe thead th {\n",
       "        text-align: right;\n",
       "    }\n",
       "</style>\n",
       "<table border=\"1\" class=\"dataframe\">\n",
       "  <thead>\n",
       "    <tr style=\"text-align: right;\">\n",
       "      <th></th>\n",
       "      <th>High</th>\n",
       "      <th>Low</th>\n",
       "      <th>Open</th>\n",
       "      <th>Close</th>\n",
       "      <th>Volume</th>\n",
       "      <th>Adj Close</th>\n",
       "    </tr>\n",
       "    <tr>\n",
       "      <th>Date</th>\n",
       "      <th></th>\n",
       "      <th></th>\n",
       "      <th></th>\n",
       "      <th></th>\n",
       "      <th></th>\n",
       "      <th></th>\n",
       "    </tr>\n",
       "  </thead>\n",
       "  <tbody>\n",
       "    <tr>\n",
       "      <th>2000-01-03</th>\n",
       "      <td>0.900745</td>\n",
       "      <td>0.893176</td>\n",
       "      <td>0.922459</td>\n",
       "      <td>0.903770</td>\n",
       "      <td>0.237955</td>\n",
       "      <td>0.903770</td>\n",
       "    </tr>\n",
       "    <tr>\n",
       "      <th>2000-01-04</th>\n",
       "      <td>0.870546</td>\n",
       "      <td>0.838590</td>\n",
       "      <td>0.903770</td>\n",
       "      <td>0.829439</td>\n",
       "      <td>0.269863</td>\n",
       "      <td>0.829439</td>\n",
       "    </tr>\n",
       "    <tr>\n",
       "      <th>2000-01-05</th>\n",
       "      <td>0.814933</td>\n",
       "      <td>0.812251</td>\n",
       "      <td>0.829439</td>\n",
       "      <td>0.833023</td>\n",
       "      <td>0.301481</td>\n",
       "      <td>0.833023</td>\n",
       "    </tr>\n",
       "    <tr>\n",
       "      <th>2000-01-06</th>\n",
       "      <td>0.813116</td>\n",
       "      <td>0.831482</td>\n",
       "      <td>0.833023</td>\n",
       "      <td>0.834807</td>\n",
       "      <td>0.304291</td>\n",
       "      <td>0.834807</td>\n",
       "    </tr>\n",
       "    <tr>\n",
       "      <th>2000-01-07</th>\n",
       "      <td>0.852317</td>\n",
       "      <td>0.842991</td>\n",
       "      <td>0.834807</td>\n",
       "      <td>0.885454</td>\n",
       "      <td>0.359220</td>\n",
       "      <td>0.885454</td>\n",
       "    </tr>\n",
       "    <tr>\n",
       "      <th>...</th>\n",
       "      <td>...</td>\n",
       "      <td>...</td>\n",
       "      <td>...</td>\n",
       "      <td>...</td>\n",
       "      <td>...</td>\n",
       "      <td>...</td>\n",
       "    </tr>\n",
       "    <tr>\n",
       "      <th>2004-12-27</th>\n",
       "      <td>0.550933</td>\n",
       "      <td>0.581852</td>\n",
       "      <td>0.577288</td>\n",
       "      <td>0.570348</td>\n",
       "      <td>0.233905</td>\n",
       "      <td>0.570348</td>\n",
       "    </tr>\n",
       "    <tr>\n",
       "      <th>2004-12-28</th>\n",
       "      <td>0.550151</td>\n",
       "      <td>0.581852</td>\n",
       "      <td>0.570348</td>\n",
       "      <td>0.581830</td>\n",
       "      <td>0.259117</td>\n",
       "      <td>0.581830</td>\n",
       "    </tr>\n",
       "    <tr>\n",
       "      <th>2004-12-29</th>\n",
       "      <td>0.550562</td>\n",
       "      <td>0.589894</td>\n",
       "      <td>0.581830</td>\n",
       "      <td>0.581710</td>\n",
       "      <td>0.235517</td>\n",
       "      <td>0.581710</td>\n",
       "    </tr>\n",
       "    <tr>\n",
       "      <th>2004-12-30</th>\n",
       "      <td>0.554035</td>\n",
       "      <td>0.593175</td>\n",
       "      <td>0.581710</td>\n",
       "      <td>0.581844</td>\n",
       "      <td>0.195797</td>\n",
       "      <td>0.581844</td>\n",
       "    </tr>\n",
       "    <tr>\n",
       "      <th>2004-12-31</th>\n",
       "      <td>0.555175</td>\n",
       "      <td>0.590827</td>\n",
       "      <td>0.581844</td>\n",
       "      <td>0.579672</td>\n",
       "      <td>0.178066</td>\n",
       "      <td>0.579672</td>\n",
       "    </tr>\n",
       "  </tbody>\n",
       "</table>\n",
       "<p>1256 rows × 6 columns</p>\n",
       "</div>"
      ],
      "text/plain": [
       "                High       Low      Open     Close    Volume  Adj Close\n",
       "Date                                                                   \n",
       "2000-01-03  0.900745  0.893176  0.922459  0.903770  0.237955   0.903770\n",
       "2000-01-04  0.870546  0.838590  0.903770  0.829439  0.269863   0.829439\n",
       "2000-01-05  0.814933  0.812251  0.829439  0.833023  0.301481   0.833023\n",
       "2000-01-06  0.813116  0.831482  0.833023  0.834807  0.304291   0.834807\n",
       "2000-01-07  0.852317  0.842991  0.834807  0.885454  0.359220   0.885454\n",
       "...              ...       ...       ...       ...       ...        ...\n",
       "2004-12-27  0.550933  0.581852  0.577288  0.570348  0.233905   0.570348\n",
       "2004-12-28  0.550151  0.581852  0.570348  0.581830  0.259117   0.581830\n",
       "2004-12-29  0.550562  0.589894  0.581830  0.581710  0.235517   0.581710\n",
       "2004-12-30  0.554035  0.593175  0.581710  0.581844  0.195797   0.581844\n",
       "2004-12-31  0.555175  0.590827  0.581844  0.579672  0.178066   0.579672\n",
       "\n",
       "[1256 rows x 6 columns]"
      ]
     },
     "execution_count": 22,
     "metadata": {},
     "output_type": "execute_result"
    }
   ],
   "source": [
    "df['2000': '2004']"
   ]
  },
  {
   "cell_type": "code",
   "execution_count": 23,
   "id": "285bb5db",
   "metadata": {},
   "outputs": [
    {
     "data": {
      "text/plain": [
       "array([[0.92245909],\n",
       "       [0.90376982],\n",
       "       [0.82943929],\n",
       "       ...,\n",
       "       [0.58183037],\n",
       "       [0.58171036],\n",
       "       [0.5818437 ]])"
      ]
     },
     "execution_count": 23,
     "metadata": {},
     "output_type": "execute_result"
    }
   ],
   "source": [
    "#tf.disable_v2_behavior()\n",
    "df = df['Open'].values\n",
    "df = df.reshape(-1, 1)\n",
    "df"
   ]
  },
  {
   "cell_type": "code",
   "execution_count": 24,
   "id": "c3063495",
   "metadata": {},
   "outputs": [],
   "source": [
    "dataset_train = np.array(df[:int(df.shape[0]*0.8)])\n",
    "dataset_test = np.array(df[int(df.shape[0]*0.8):])"
   ]
  },
  {
   "cell_type": "code",
   "execution_count": 25,
   "id": "4fd2cee4",
   "metadata": {},
   "outputs": [],
   "source": [
    "def create_dataset(df):\n",
    "    x = []\n",
    "    y = []\n",
    "    for i in range(50, df.shape[0]):\n",
    "        x.append(df[i-50:i, 0])\n",
    "        y.append(df[i, 0])\n",
    "    x = np.array(x)\n",
    "    y = np.array(y)\n",
    "    return x,y"
   ]
  },
  {
   "cell_type": "code",
   "execution_count": 26,
   "id": "b8ee3eb7",
   "metadata": {},
   "outputs": [],
   "source": [
    "x_train, y_train = create_dataset(dataset_train)\n",
    "x_test, y_test = create_dataset(dataset_test)"
   ]
  },
  {
   "cell_type": "code",
   "execution_count": 27,
   "id": "d6973005",
   "metadata": {},
   "outputs": [],
   "source": [
    "x_train = np.reshape(x_train, (x_train.shape[0], x_train.shape[1], 1))\n",
    "x_test = np.reshape(x_test, (x_test.shape[0], x_test.shape[1], 1))"
   ]
  },
  {
   "cell_type": "code",
   "execution_count": 28,
   "id": "59d69daf",
   "metadata": {},
   "outputs": [],
   "source": [
    "model = Sequential()\n",
    "model.add(LSTM(units=96, return_sequences=True, input_shape=(x_train.shape[1], 1)))\n",
    "model.add(Dropout(0.2))\n",
    "model.add(LSTM(units=96,return_sequences=True))\n",
    "model.add(Dropout(0.2))\n",
    "model.add(LSTM(units=96,return_sequences=True))\n",
    "model.add(Dropout(0.2))\n",
    "model.add(LSTM(units=96))\n",
    "model.add(Dropout(0.2))\n",
    "model.add(Dense(units=1))"
   ]
  },
  {
   "cell_type": "code",
   "execution_count": 29,
   "id": "88c616a3",
   "metadata": {},
   "outputs": [],
   "source": [
    "x_train = np.reshape(x_train, (x_train.shape[0], x_train.shape[1], 1))\n",
    "x_test = np.reshape(x_test, (x_test.shape[0], x_test.shape[1], 1))"
   ]
  },
  {
   "cell_type": "code",
   "execution_count": 30,
   "id": "fc70b779",
   "metadata": {},
   "outputs": [],
   "source": [
    "model.compile(loss='mean_squared_error', optimizer='adam')"
   ]
  },
  {
   "cell_type": "code",
   "execution_count": 31,
   "id": "106753cc",
   "metadata": {},
   "outputs": [
    {
     "name": "stdout",
     "output_type": "stream",
     "text": [
      "Epoch 1/50\n",
      "30/30 [==============================] - 70s 255ms/step - loss: 0.0686\n",
      "Epoch 2/50\n",
      "30/30 [==============================] - 7s 242ms/step - loss: 0.0063\n",
      "Epoch 3/50\n",
      "30/30 [==============================] - 7s 239ms/step - loss: 0.0053\n",
      "Epoch 4/50\n",
      "30/30 [==============================] - 8s 255ms/step - loss: 0.0054\n",
      "Epoch 5/50\n",
      "30/30 [==============================] - 7s 229ms/step - loss: 0.0047\n",
      "Epoch 6/50\n",
      "30/30 [==============================] - 7s 235ms/step - loss: 0.0058\n",
      "Epoch 7/50\n",
      "30/30 [==============================] - 7s 233ms/step - loss: 0.0049\n",
      "Epoch 8/50\n",
      "30/30 [==============================] - 7s 247ms/step - loss: 0.0045\n",
      "Epoch 9/50\n",
      "30/30 [==============================] - 8s 254ms/step - loss: 0.0044\n",
      "Epoch 10/50\n",
      "30/30 [==============================] - 7s 232ms/step - loss: 0.0039\n",
      "Epoch 11/50\n",
      "30/30 [==============================] - 7s 235ms/step - loss: 0.0036\n",
      "Epoch 12/50\n",
      "30/30 [==============================] - 7s 228ms/step - loss: 0.0036\n",
      "Epoch 13/50\n",
      "30/30 [==============================] - 7s 229ms/step - loss: 0.0034\n",
      "Epoch 14/50\n",
      "30/30 [==============================] - 7s 225ms/step - loss: 0.0033\n",
      "Epoch 15/50\n",
      "30/30 [==============================] - 7s 249ms/step - loss: 0.0034\n",
      "Epoch 16/50\n",
      "30/30 [==============================] - 9s 294ms/step - loss: 0.0034\n",
      "Epoch 17/50\n",
      "30/30 [==============================] - 7s 226ms/step - loss: 0.0035\n",
      "Epoch 18/50\n",
      "30/30 [==============================] - 7s 224ms/step - loss: 0.0029\n",
      "Epoch 19/50\n",
      "30/30 [==============================] - 7s 231ms/step - loss: 0.0029\n",
      "Epoch 20/50\n",
      "30/30 [==============================] - 7s 225ms/step - loss: 0.0030\n",
      "Epoch 21/50\n",
      "30/30 [==============================] - 7s 231ms/step - loss: 0.0030\n",
      "Epoch 22/50\n",
      "30/30 [==============================] - 7s 235ms/step - loss: 0.0037\n",
      "Epoch 23/50\n",
      "30/30 [==============================] - 7s 237ms/step - loss: 0.0030\n",
      "Epoch 24/50\n",
      "30/30 [==============================] - 7s 227ms/step - loss: 0.0030\n",
      "Epoch 25/50\n",
      "30/30 [==============================] - 7s 226ms/step - loss: 0.0029\n",
      "Epoch 26/50\n",
      "30/30 [==============================] - 7s 231ms/step - loss: 0.0032\n",
      "Epoch 27/50\n",
      "30/30 [==============================] - 7s 228ms/step - loss: 0.0024\n",
      "Epoch 28/50\n",
      "30/30 [==============================] - 7s 230ms/step - loss: 0.0022\n",
      "Epoch 29/50\n",
      "30/30 [==============================] - 7s 229ms/step - loss: 0.0026\n",
      "Epoch 30/50\n",
      "30/30 [==============================] - 7s 235ms/step - loss: 0.0026\n",
      "Epoch 31/50\n",
      "30/30 [==============================] - 7s 229ms/step - loss: 0.0026\n",
      "Epoch 32/50\n",
      "30/30 [==============================] - 7s 226ms/step - loss: 0.0025\n",
      "Epoch 33/50\n",
      "30/30 [==============================] - 7s 230ms/step - loss: 0.0024\n",
      "Epoch 34/50\n",
      "30/30 [==============================] - 7s 230ms/step - loss: 0.0025\n",
      "Epoch 35/50\n",
      "30/30 [==============================] - 7s 231ms/step - loss: 0.0022\n",
      "Epoch 36/50\n",
      "30/30 [==============================] - 8s 251ms/step - loss: 0.0025\n",
      "Epoch 37/50\n",
      "30/30 [==============================] - 7s 235ms/step - loss: 0.0022\n",
      "Epoch 38/50\n",
      "30/30 [==============================] - 7s 229ms/step - loss: 0.0023\n",
      "Epoch 39/50\n",
      "30/30 [==============================] - 7s 234ms/step - loss: 0.0030\n",
      "Epoch 40/50\n",
      "30/30 [==============================] - 7s 236ms/step - loss: 0.0020\n",
      "Epoch 41/50\n",
      "30/30 [==============================] - 7s 229ms/step - loss: 0.0021\n",
      "Epoch 42/50\n",
      "30/30 [==============================] - 7s 242ms/step - loss: 0.0024\n",
      "Epoch 43/50\n",
      "30/30 [==============================] - 7s 229ms/step - loss: 0.0021\n",
      "Epoch 44/50\n",
      "30/30 [==============================] - 7s 231ms/step - loss: 0.0023\n",
      "Epoch 45/50\n",
      "30/30 [==============================] - 7s 236ms/step - loss: 0.0024\n",
      "Epoch 46/50\n",
      "30/30 [==============================] - 7s 234ms/step - loss: 0.0024\n",
      "Epoch 47/50\n",
      "30/30 [==============================] - 7s 230ms/step - loss: 0.0018\n",
      "Epoch 48/50\n",
      "30/30 [==============================] - 7s 241ms/step - loss: 0.0021\n",
      "Epoch 49/50\n",
      "30/30 [==============================] - 7s 233ms/step - loss: 0.0032\n",
      "Epoch 50/50\n",
      "30/30 [==============================] - 7s 232ms/step - loss: 0.0027\n"
     ]
    }
   ],
   "source": [
    "model.fit(x_train, y_train, epochs=50, batch_size=32)\n",
    "model.save('stock_prediction.h5')"
   ]
  },
  {
   "cell_type": "code",
   "execution_count": 32,
   "id": "a9a2d389",
   "metadata": {},
   "outputs": [],
   "source": [
    "model = load_model('stock_prediction.h5')"
   ]
  },
  {
   "cell_type": "code",
   "execution_count": 39,
   "id": "d42e7bc3",
   "metadata": {},
   "outputs": [
    {
     "data": {
      "text/plain": [
       "<matplotlib.legend.Legend at 0x201feb9efd0>"
      ]
     },
     "execution_count": 39,
     "metadata": {},
     "output_type": "execute_result"
    },
    {
     "data": {
      "image/png": "[encoded data removed]",
      "text/plain": [
       "<Figure size 1152x576 with 1 Axes>"
      ]
     },
     "metadata": {
      "needs_background": "light"
     },
     "output_type": "display_data"
    }
   ],
   "source": [
    "predictions = model.predict(x_test)\n",
    "predictions.shape\n",
    "# predictions = scaler.inverse_transform(predictions)\n",
    "# y_test_scaled = scaler.inverse_transform(y_test.reshape(-1, 1))\n",
    "\n",
    "fig, ax = plt.subplots(figsize=(16,8))\n",
    "ax.set_facecolor('#ffffff')\n",
    "ax.plot(y_test, color='red', label='Original price')\n",
    "plt.plot(predictions, color='cyan', label='Predicted price')\n",
    "plt.legend()"
   ]
  },
  {
   "cell_type": "code",
   "execution_count": null,
   "id": "0bc62d31",
   "metadata": {},
   "outputs": [],
   "source": []
  }
 ],
 "metadata": {
  "kernelspec": {
   "display_name": "Python 3",
   "language": "python",
   "name": "python3"
  },
  "language_info": {
   "codemirror_mode": {
    "name": "ipython",
    "version": 3
   },
   "file_extension": ".py",
   "mimetype": "text/x-python",
   "name": "python",
   "nbconvert_exporter": "python",
   "pygments_lexer": "ipython3",
   "version": "3.8.8"
  }
 },
 "nbformat": 4,
 "nbformat_minor": 5
}
